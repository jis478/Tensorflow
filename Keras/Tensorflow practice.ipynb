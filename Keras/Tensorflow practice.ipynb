{
 "cells": [
  {
   "cell_type": "code",
   "execution_count": 14,
   "metadata": {},
   "outputs": [],
   "source": [
    "import tensorflow as tf\n",
    "import numpy as np\n",
    "from tensorflow.keras.models import Model\n",
    "from tensorflow.keras.layers import Input, Dense\n"
   ]
  },
  {
   "cell_type": "markdown",
   "metadata": {},
   "source": [
    "## 검증"
   ]
  },
  {
   "cell_type": "code",
   "execution_count": 178,
   "metadata": {
    "scrolled": true
   },
   "outputs": [
    {
     "name": "stdout",
     "output_type": "stream",
     "text": [
      "[[[ 1.          1.          1.          1.          1.\n",
      "    1.          1.          1.          1.          1.\n",
      "    1.          1.          1.          1.          1.\n",
      "    1.          1.          1.          1.          1.\n",
      "    1.          1.          1.          1.          1.\n",
      "    1.          1.          1.          1.          1.\n",
      "    1.          1.          1.          1.          1.\n",
      "    1.          1.          1.          1.          1.\n",
      "    1.          1.          1.          1.          1.\n",
      "    1.          1.          1.          1.          1.\n",
      "    1.          1.          1.          1.          1.\n",
      "    1.          1.          1.          1.          1.\n",
      "    1.          1.          1.          1.          1.\n",
      "    1.          1.          1.          1.          1.\n",
      "    1.          1.          1.          1.          1.\n",
      "    1.          1.          1.          1.          1.\n",
      "    1.          1.          1.          1.          1.\n",
      "    1.          1.          1.          1.          1.\n",
      "    1.          1.          1.          1.          1.\n",
      "    1.          1.          1.          1.          1.        ]\n",
      "  [ 0.          0.          0.          0.          0.\n",
      "    0.          0.          0.          0.          0.\n",
      "    0.          0.          0.          0.          0.\n",
      "    0.          0.          0.          0.          0.\n",
      "    0.          0.          0.          0.          0.\n",
      "    0.          0.          0.          0.          0.\n",
      "    0.          0.          0.          0.          0.\n",
      "    0.          0.          0.          0.          0.\n",
      "    0.          0.          0.          0.          0.\n",
      "    0.          0.          0.          0.          0.\n",
      "    0.          0.          0.          0.          0.\n",
      "    0.          0.          0.          0.          0.\n",
      "    0.          0.          0.          0.          0.\n",
      "    0.          0.          0.          0.          0.\n",
      "    0.          0.          0.          0.          0.\n",
      "    0.          0.          0.          0.          0.\n",
      "    0.          0.          0.          0.          0.\n",
      "    0.          0.          0.          0.          0.\n",
      "    0.          0.          0.          0.          0.\n",
      "    0.          0.          0.          0.          0.        ]\n",
      "  [-0.00394072  1.8672123  -0.2250822  -0.48006737  0.513045\n",
      "   -0.3311302   1.8791405   0.27205756 -1.1081388  -0.34118962\n",
      "   -0.23683468  0.68502104  1.200375    0.61444515 -0.15886204\n",
      "   -1.7216665  -0.9439781   0.6618329  -1.4381152  -0.92772865\n",
      "   -0.06206672  1.163821   -0.20641254  0.8844646   1.4481506\n",
      "   -1.0263845   0.59893304 -0.13551727 -1.3855083  -1.0933629\n",
      "   -0.11116511  0.90051943  1.1550252   0.14724088 -0.55061346\n",
      "    0.3609461   0.876592   -0.898995    0.55486006  0.47678542\n",
      "    1.7011882  -0.18302745 -0.7015807   0.71479577 -0.07040391\n",
      "   -1.1340916   0.54871964  0.27614057  0.5555264   0.51581365\n",
      "    0.48770264  1.462701    1.7706277  -0.271007   -1.6310384\n",
      "    0.4888267   0.518907    1.3598688  -0.08380169 -0.9054998\n",
      "   -0.72084594  2.9648948   0.50950176 -1.0177761  -0.16699259\n",
      "    1.7488673   1.4940338   2.043639   -0.68691015 -0.78100085\n",
      "    1.0906835  -0.12137036  1.0514727   0.45485035  1.6972498\n",
      "    0.21660878 -0.71019155  0.4291151   1.6823608   0.37470537\n",
      "   -0.59398526 -1.3639972  -0.49725866 -0.2244442   1.2219664\n",
      "    1.1637982  -1.1794776   0.798196    0.39557642 -1.2632829\n",
      "    0.66527426 -0.36889982  0.5172602   0.4238872   1.1548924\n",
      "    1.7184834   0.36408296  0.7749      0.62237215 -1.4059451 ]]]\n"
     ]
    }
   ],
   "source": [
    "rc = [1.,0.]\n",
    "s = list(np.random.normal(0, 1, 100))\n",
    "input_arr = np.array(rc + s)\n",
    "input_arr = input_arr.reshape(1,102)\n",
    "\n",
    "tensor = tf.placeholder(tf.float32, shape=(1, 102))\n",
    "\n",
    "with tf.Session() as sess:\n",
    "    r = tf.expand_dims(tf.tile(tensor[:,:1], [1,100]),1)\n",
    "    c = tf.expand_dims(tf.tile(tensor[:,1:2], [1,100]),1)\n",
    "    signal = tf.expand_dims(tensor[:,2:],1)\n",
    "    tensor_fn = tf.concat([r,c,signal], axis=1)\n",
    "    print(sess.run(tensor_fn, feed_dict = {tensor:input_arr}))\n"
   ]
  },
  {
   "cell_type": "markdown",
   "metadata": {},
   "source": [
    "## 구현"
   ]
  },
  {
   "cell_type": "code",
   "execution_count": 166,
   "metadata": {
    "scrolled": true
   },
   "outputs": [
    {
     "name": "stdout",
     "output_type": "stream",
     "text": [
      "_________________________________________________________________\n",
      "Layer (type)                 Output Shape              Param #   \n",
      "=================================================================\n",
      "input_30 (InputLayer)        (None, 102)               0         \n",
      "_________________________________________________________________\n",
      "lambda_25 (Lambda)           (None, 3, 100)            0         \n",
      "_________________________________________________________________\n",
      "dense_7 (Dense)              (None, 3, 32)             3232      \n",
      "=================================================================\n",
      "Total params: 3,232\n",
      "Trainable params: 3,232\n",
      "Non-trainable params: 0\n",
      "_________________________________________________________________\n"
     ]
    }
   ],
   "source": [
    "from tensorflow.keras.models import Model\n",
    "from tensorflow.keras.layers import Input, Dense, Lambda\n",
    "\n",
    "def broadcasting_rc_shape(input_shape):\n",
    "    shape = list(input_shape)\n",
    "    assert len(shape) == 4 # 3D tensors\n",
    "    return tuple(shape)\n",
    "\n",
    "def broadcasting_rc_temp(tensor):\n",
    "    r = tf.expand_dims(tf.tile(tensor[:,:1], [1,100]),1)\n",
    "    c = tf.expand_dims(tf.tile(tensor[:,1:2], [1,100]),1)\n",
    "    signal = tf.expand_dims(tensor[:,2:],1)\n",
    "    tensor_fn = tf.concat([r,c,signal], axis=1)\n",
    "    return tensor_fn\n",
    "\n",
    "x1 = Input(shape=(102,)) # (None, 102)\n",
    "layer = Lambda(broadcasting_rc_temp, broadcasting_rc_shape)\n",
    "x2 = layer(x1)           # (None, 100, 3)\n",
    "x3 = Dense(32)(x2)\n",
    "model = Model(inputs=x1, outputs=x3)\n",
    "model.summary()\n"
   ]
  }
 ],
 "metadata": {
  "kernelspec": {
   "display_name": "Python 3",
   "language": "python",
   "name": "python3"
  },
  "language_info": {
   "codemirror_mode": {
    "name": "ipython",
    "version": 3
   },
   "file_extension": ".py",
   "mimetype": "text/x-python",
   "name": "python",
   "nbconvert_exporter": "python",
   "pygments_lexer": "ipython3",
   "version": "3.5.2"
  }
 },
 "nbformat": 4,
 "nbformat_minor": 2
}
